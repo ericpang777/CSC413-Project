{
  "nbformat": 4,
  "nbformat_minor": 0,
  "metadata": {
    "colab": {
      "name": "CSC413 Project",
      "provenance": [],
      "authorship_tag": "ABX9TyM4TMZvYU49tT//b025Loqa",
      "include_colab_link": true
    },
    "kernelspec": {
      "name": "python3",
      "display_name": "Python 3"
    },
    "language_info": {
      "name": "python"
    }
  },
  "cells": [
    {
      "cell_type": "markdown",
      "metadata": {
        "id": "view-in-github",
        "colab_type": "text"
      },
      "source": [
        "<a href=\"https://colab.research.google.com/github/st-tran/CSC413-Project/blob/main/CSC413_Project.ipynb\" target=\"_parent\"><img src=\"https://colab.research.google.com/assets/colab-badge.svg\" alt=\"Open In Colab\"/></a>"
      ]
    },
    {
      "cell_type": "markdown",
      "metadata": {
        "id": "6zqBfjJaSb1f"
      },
      "source": [
        "# CSC413 Project: GeoGuessr!\n",
        "\n",
        "## Load in the data"
      ]
    },
    {
      "cell_type": "code",
      "metadata": {
        "id": "FmbfEpE7NpSc"
      },
      "source": [
        "# 1k Canada dataset\n",
        "!gdown --id 1QSVxo_GpPQ5gHVh6hkQCEktt6jGX3AoO\n",
        "!mkdir /content/training\n",
        "!tar -xzvf 1kimages090180270.tar.gz -C /content/training\n",
        "!for d in /content/training/images*; do mv \"${d}\" \"/content/training/`basename \"${d}\" | sed -e 's/images//g' | sed -e 's/\\s//g'`\"; done\n",
        "!mv /content/training\n",
        "!rm -rf /content/1kimages090180270.tar.gz"
      ],
      "execution_count": null,
      "outputs": []
    },
    {
      "cell_type": "code",
      "metadata": {
        "id": "4rpJus6qTnn4"
      },
      "source": [
        "from typing import *"
      ],
      "execution_count": 23,
      "outputs": []
    },
    {
      "cell_type": "markdown",
      "metadata": {
        "id": "tCjFtWD7S9-O"
      },
      "source": [
        "## Process the data\n",
        "\n",
        "For each of the images:\n",
        "- stitch together the 4 pieces ($\\{N,E,S,W\\}$) into single images\n",
        "- label the data using latitude/longitude data"
      ]
    },
    {
      "cell_type": "code",
      "metadata": {
        "id": "1OkYE4BCSbBq"
      },
      "source": [
        "from collections import defaultdict\n",
        "from PIL import Image\n",
        "from IPython.display import display\n",
        "from glob import glob\n",
        "import re\n",
        "import os\n",
        "\n",
        "data = defaultdict(list)\n",
        "\n",
        "def get_image_ids(province: str) -> List[str]:\n",
        "  images = glob(f\"/content/training/{province}/*.jpg\")\n",
        "  ids_no_angle = [f\"/content/training/{province}/\" + re.sub('_[\\\\d]*.jpg', '', f.split('/')[-1]) for f in images]\n",
        "  return ids_no_angle \n",
        "\n",
        "def stitch_images_and_save(image_base_path: str) -> None:\n",
        "  img = Image.new(\"RGB\", (512, 512))\n",
        "  img_0 = Image.open(f\"{image_base_path}_0.jpg\")\n",
        "  img_90 = Image.open(f\"{image_base_path}_90.jpg\")\n",
        "  img_180 = Image.open(f\"{image_base_path}_180.jpg\")\n",
        "  img_270 = Image.open(f\"{image_base_path}_270.jpg\")\n",
        "  img.paste(img_0, (0, 0))\n",
        "  img.paste(img_90, (256, 0))\n",
        "  img.paste(img_180, (0, 256))\n",
        "  img.paste(img_270, (256, 256))\n",
        "\n",
        "  new_name = f\"{image_base_path}_stitched.jpg\"\n",
        "  img.save(new_name)\n",
        "  data[image_base_path.split(\"/\")[-2]].append(new_name)"
      ],
      "execution_count": 65,
      "outputs": []
    },
    {
      "cell_type": "code",
      "metadata": {
        "colab": {
          "base_uri": "https://localhost:8080/",
          "height": 476
        },
        "id": "dOPP93kRUM2l",
        "outputId": "ce2ab3e2-1999-4976-d69a-e8544cfba0c9"
      },
      "source": [
        "for province in glob(\"/content/training/*\"):\n",
        "  for image in get_image_paths(os.path.basename(province)):\n",
        "    stitch_images_and_save(image)"
      ],
      "execution_count": 66,
      "outputs": [
        {
          "output_type": "error",
          "ename": "FileNotFoundError",
          "evalue": "ignored",
          "traceback": [
            "\u001b[0;31m---------------------------------------------------------------------------\u001b[0m",
            "\u001b[0;31mFileNotFoundError\u001b[0m                         Traceback (most recent call last)",
            "\u001b[0;32m<ipython-input-66-6d93c3052343>\u001b[0m in \u001b[0;36m<module>\u001b[0;34m()\u001b[0m\n\u001b[1;32m      1\u001b[0m \u001b[0;32mfor\u001b[0m \u001b[0mprovince\u001b[0m \u001b[0;32min\u001b[0m \u001b[0mglob\u001b[0m\u001b[0;34m(\u001b[0m\u001b[0;34m\"/content/training/*\"\u001b[0m\u001b[0;34m)\u001b[0m\u001b[0;34m:\u001b[0m\u001b[0;34m\u001b[0m\u001b[0;34m\u001b[0m\u001b[0m\n\u001b[1;32m      2\u001b[0m   \u001b[0;32mfor\u001b[0m \u001b[0mimage\u001b[0m \u001b[0;32min\u001b[0m \u001b[0mget_image_paths\u001b[0m\u001b[0;34m(\u001b[0m\u001b[0mos\u001b[0m\u001b[0;34m.\u001b[0m\u001b[0mpath\u001b[0m\u001b[0;34m.\u001b[0m\u001b[0mbasename\u001b[0m\u001b[0;34m(\u001b[0m\u001b[0mprovince\u001b[0m\u001b[0;34m)\u001b[0m\u001b[0;34m)\u001b[0m\u001b[0;34m:\u001b[0m\u001b[0;34m\u001b[0m\u001b[0;34m\u001b[0m\u001b[0m\n\u001b[0;32m----> 3\u001b[0;31m     \u001b[0mstitch_images_and_save\u001b[0m\u001b[0;34m(\u001b[0m\u001b[0mimage\u001b[0m\u001b[0;34m)\u001b[0m\u001b[0;34m\u001b[0m\u001b[0;34m\u001b[0m\u001b[0m\n\u001b[0m",
            "\u001b[0;32m<ipython-input-65-e7517af4ca36>\u001b[0m in \u001b[0;36mstitch_images_and_save\u001b[0;34m(image_base_path)\u001b[0m\n\u001b[1;32m     15\u001b[0m \u001b[0;32mdef\u001b[0m \u001b[0mstitch_images_and_save\u001b[0m\u001b[0;34m(\u001b[0m\u001b[0mimage_base_path\u001b[0m\u001b[0;34m:\u001b[0m \u001b[0mstr\u001b[0m\u001b[0;34m)\u001b[0m \u001b[0;34m->\u001b[0m \u001b[0;32mNone\u001b[0m\u001b[0;34m:\u001b[0m\u001b[0;34m\u001b[0m\u001b[0;34m\u001b[0m\u001b[0m\n\u001b[1;32m     16\u001b[0m   \u001b[0mimg\u001b[0m \u001b[0;34m=\u001b[0m \u001b[0mImage\u001b[0m\u001b[0;34m.\u001b[0m\u001b[0mnew\u001b[0m\u001b[0;34m(\u001b[0m\u001b[0;34m\"RGB\"\u001b[0m\u001b[0;34m,\u001b[0m \u001b[0;34m(\u001b[0m\u001b[0;36m512\u001b[0m\u001b[0;34m,\u001b[0m \u001b[0;36m512\u001b[0m\u001b[0;34m)\u001b[0m\u001b[0;34m)\u001b[0m\u001b[0;34m\u001b[0m\u001b[0;34m\u001b[0m\u001b[0m\n\u001b[0;32m---> 17\u001b[0;31m   \u001b[0mimg_0\u001b[0m \u001b[0;34m=\u001b[0m \u001b[0mImage\u001b[0m\u001b[0;34m.\u001b[0m\u001b[0mopen\u001b[0m\u001b[0;34m(\u001b[0m\u001b[0;34mf\"{image_base_path}_0.jpg\"\u001b[0m\u001b[0;34m)\u001b[0m\u001b[0;34m\u001b[0m\u001b[0;34m\u001b[0m\u001b[0m\n\u001b[0m\u001b[1;32m     18\u001b[0m   \u001b[0mimg_90\u001b[0m \u001b[0;34m=\u001b[0m \u001b[0mImage\u001b[0m\u001b[0;34m.\u001b[0m\u001b[0mopen\u001b[0m\u001b[0;34m(\u001b[0m\u001b[0;34mf\"{image_base_path}_90.jpg\"\u001b[0m\u001b[0;34m)\u001b[0m\u001b[0;34m\u001b[0m\u001b[0;34m\u001b[0m\u001b[0m\n\u001b[1;32m     19\u001b[0m   \u001b[0mimg_180\u001b[0m \u001b[0;34m=\u001b[0m \u001b[0mImage\u001b[0m\u001b[0;34m.\u001b[0m\u001b[0mopen\u001b[0m\u001b[0;34m(\u001b[0m\u001b[0;34mf\"{image_base_path}_180.jpg\"\u001b[0m\u001b[0;34m)\u001b[0m\u001b[0;34m\u001b[0m\u001b[0;34m\u001b[0m\u001b[0m\n",
            "\u001b[0;32m/usr/local/lib/python3.7/dist-packages/PIL/Image.py\u001b[0m in \u001b[0;36mopen\u001b[0;34m(fp, mode)\u001b[0m\n\u001b[1;32m   2841\u001b[0m \u001b[0;34m\u001b[0m\u001b[0m\n\u001b[1;32m   2842\u001b[0m     \u001b[0;32mif\u001b[0m \u001b[0mfilename\u001b[0m\u001b[0;34m:\u001b[0m\u001b[0;34m\u001b[0m\u001b[0;34m\u001b[0m\u001b[0m\n\u001b[0;32m-> 2843\u001b[0;31m         \u001b[0mfp\u001b[0m \u001b[0;34m=\u001b[0m \u001b[0mbuiltins\u001b[0m\u001b[0;34m.\u001b[0m\u001b[0mopen\u001b[0m\u001b[0;34m(\u001b[0m\u001b[0mfilename\u001b[0m\u001b[0;34m,\u001b[0m \u001b[0;34m\"rb\"\u001b[0m\u001b[0;34m)\u001b[0m\u001b[0;34m\u001b[0m\u001b[0;34m\u001b[0m\u001b[0m\n\u001b[0m\u001b[1;32m   2844\u001b[0m         \u001b[0mexclusive_fp\u001b[0m \u001b[0;34m=\u001b[0m \u001b[0;32mTrue\u001b[0m\u001b[0;34m\u001b[0m\u001b[0;34m\u001b[0m\u001b[0m\n\u001b[1;32m   2845\u001b[0m \u001b[0;34m\u001b[0m\u001b[0m\n",
            "\u001b[0;31mFileNotFoundError\u001b[0m: [Errno 2] No such file or directory: '/content/training/Alberta/2009_9T_FOnZo7dppO-KGK6NFaA_stitched.jpg_0.jpg'"
          ]
        }
      ]
    },
    {
      "cell_type": "code",
      "metadata": {
        "colab": {
          "base_uri": "https://localhost:8080/"
        },
        "id": "ZGMknSDbZzdd",
        "outputId": "5ddfbcd0-67b7-43ed-c80d-16dd6ce13453"
      },
      "source": [
        "data"
      ],
      "execution_count": 62,
      "outputs": [
        {
          "output_type": "execute_result",
          "data": {
            "text/plain": [
              "defaultdict(list,\n",
              "            {'Alberta': ['/content/training/Alberta/2009_9T_FOnZo7dppO-KGK6NFaA_stitched.jpg']})"
            ]
          },
          "metadata": {
            "tags": []
          },
          "execution_count": 62
        }
      ]
    }
  ]
}